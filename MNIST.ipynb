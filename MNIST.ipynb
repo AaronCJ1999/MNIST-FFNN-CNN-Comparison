{
 "cells": [
  {
   "cell_type": "code",
   "execution_count": 1,
   "metadata": {
    "colab": {
     "base_uri": "https://localhost:8080/"
    },
    "id": "fH06uZJI3o4X",
    "outputId": "fe69fae9-2bc7-4bcf-8b82-fd73c74c14df"
   },
   "outputs": [
    {
     "name": "stdout",
     "output_type": "stream",
     "text": [
      "Collecting idx2numpy\n",
      "  Downloading idx2numpy-1.2.3.tar.gz (6.8 kB)\n",
      "  Preparing metadata (setup.py) ... \u001b[?25l\u001b[?25hdone\n",
      "Requirement already satisfied: numpy in /usr/local/lib/python3.10/dist-packages (from idx2numpy) (1.26.4)\n",
      "Requirement already satisfied: six in /usr/local/lib/python3.10/dist-packages (from idx2numpy) (1.16.0)\n",
      "Building wheels for collected packages: idx2numpy\n",
      "  Building wheel for idx2numpy (setup.py) ... \u001b[?25l\u001b[?25hdone\n",
      "  Created wheel for idx2numpy: filename=idx2numpy-1.2.3-py3-none-any.whl size=7904 sha256=dc5bd6bc6f993ce19c8c259d69beb9396b2acc7af5dfe87fc891201f448c08b4\n",
      "  Stored in directory: /root/.cache/pip/wheels/e0/f4/e7/643fc5f932ec2ff92997f43f007660feb23f948aa8486f1107\n",
      "Successfully built idx2numpy\n",
      "Installing collected packages: idx2numpy\n",
      "Successfully installed idx2numpy-1.2.3\n"
     ]
    }
   ],
   "source": [
    "!pip install idx2numpy"
   ]
  },
  {
   "cell_type": "code",
   "execution_count": 2,
   "metadata": {
    "id": "7-LesWSYmqYN"
   },
   "outputs": [],
   "source": [
    "import numpy as np\n",
    "import tensorflow as tf\n",
    "from tensorflow.keras import layers, models\n",
    "import idx2numpy\n",
    "from tensorflow.keras.optimizers import Adam"
   ]
  },
  {
   "cell_type": "code",
   "execution_count": 3,
   "metadata": {
    "id": "MB8UPIYdzyEw"
   },
   "outputs": [],
   "source": [
    "def load_mnist():\n",
    "  # Load MNIST dataset from idx3-ubyte files using idx2numpy converter\n",
    "    train_images = idx2numpy.convert_from_file('train-images.idx3-ubyte')\n",
    "    train_labels = idx2numpy.convert_from_file('train-labels.idx1-ubyte')\n",
    "    test_images = idx2numpy.convert_from_file('t10k-images.idx3-ubyte')\n",
    "    test_labels = idx2numpy.convert_from_file('t10k-labels.idx1-ubyte')\n",
    "\n",
    "    # Normalize pixel values to range [0,1] by dividing by 255\n",
    "    train_images = train_images.astype('float32') / 255\n",
    "    test_images = test_images.astype('float32') / 255\n",
    "\n",
    "    return (train_images, train_labels), (test_images, test_labels)\n",
    "\n",
    "# Load and prepare MNIST dataset for training\n",
    "(train_images, train_labels), (test_images, test_labels) = load_mnist()"
   ]
  },
  {
   "cell_type": "code",
   "execution_count": 7,
   "metadata": {
    "colab": {
     "base_uri": "https://localhost:8080/"
    },
    "id": "s5n6tSEAgDA5",
    "outputId": "5db4f5a2-e757-4c75-e6d9-6c88d6d5ccd2"
   },
   "outputs": [
    {
     "name": "stdout",
     "output_type": "stream",
     "text": [
      "\n",
      "Run 1\n",
      "--------------------\n",
      "Epoch 1/10\n",
      "\u001b[1m1688/1688\u001b[0m \u001b[32m━━━━━━━━━━━━━━━━━━━━\u001b[0m\u001b[37m\u001b[0m \u001b[1m18s\u001b[0m 10ms/step - accuracy: 0.8855 - loss: 0.3867 - val_accuracy: 0.9670 - val_loss: 0.1102\n",
      "Epoch 2/10\n",
      "\u001b[1m1688/1688\u001b[0m \u001b[32m━━━━━━━━━━━━━━━━━━━━\u001b[0m\u001b[37m\u001b[0m \u001b[1m16s\u001b[0m 9ms/step - accuracy: 0.9741 - loss: 0.0862 - val_accuracy: 0.9753 - val_loss: 0.0778\n",
      "Epoch 3/10\n",
      "\u001b[1m1688/1688\u001b[0m \u001b[32m━━━━━━━━━━━━━━━━━━━━\u001b[0m\u001b[37m\u001b[0m \u001b[1m20s\u001b[0m 9ms/step - accuracy: 0.9836 - loss: 0.0512 - val_accuracy: 0.9783 - val_loss: 0.0728\n",
      "Epoch 4/10\n",
      "\u001b[1m1688/1688\u001b[0m \u001b[32m━━━━━━━━━━━━━━━━━━━━\u001b[0m\u001b[37m\u001b[0m \u001b[1m20s\u001b[0m 9ms/step - accuracy: 0.9888 - loss: 0.0333 - val_accuracy: 0.9797 - val_loss: 0.0740\n",
      "Epoch 5/10\n",
      "\u001b[1m1688/1688\u001b[0m \u001b[32m━━━━━━━━━━━━━━━━━━━━\u001b[0m\u001b[37m\u001b[0m \u001b[1m16s\u001b[0m 10ms/step - accuracy: 0.9918 - loss: 0.0252 - val_accuracy: 0.9800 - val_loss: 0.0727\n",
      "Epoch 6/10\n",
      "\u001b[1m1688/1688\u001b[0m \u001b[32m━━━━━━━━━━━━━━━━━━━━\u001b[0m\u001b[37m\u001b[0m \u001b[1m20s\u001b[0m 10ms/step - accuracy: 0.9943 - loss: 0.0174 - val_accuracy: 0.9810 - val_loss: 0.0769\n",
      "Epoch 7/10\n",
      "\u001b[1m1688/1688\u001b[0m \u001b[32m━━━━━━━━━━━━━━━━━━━━\u001b[0m\u001b[37m\u001b[0m \u001b[1m16s\u001b[0m 9ms/step - accuracy: 0.9954 - loss: 0.0141 - val_accuracy: 0.9765 - val_loss: 0.0981\n",
      "Epoch 8/10\n",
      "\u001b[1m1688/1688\u001b[0m \u001b[32m━━━━━━━━━━━━━━━━━━━━\u001b[0m\u001b[37m\u001b[0m \u001b[1m21s\u001b[0m 9ms/step - accuracy: 0.9953 - loss: 0.0147 - val_accuracy: 0.9837 - val_loss: 0.0734\n",
      "Epoch 9/10\n",
      "\u001b[1m1688/1688\u001b[0m \u001b[32m━━━━━━━━━━━━━━━━━━━━\u001b[0m\u001b[37m\u001b[0m \u001b[1m21s\u001b[0m 9ms/step - accuracy: 0.9965 - loss: 0.0097 - val_accuracy: 0.9838 - val_loss: 0.0817\n",
      "Epoch 10/10\n",
      "\u001b[1m1688/1688\u001b[0m \u001b[32m━━━━━━━━━━━━━━━━━━━━\u001b[0m\u001b[37m\u001b[0m \u001b[1m22s\u001b[0m 10ms/step - accuracy: 0.9966 - loss: 0.0110 - val_accuracy: 0.9813 - val_loss: 0.0923\n",
      "Run 1 Test accuracy: 0.9816\n",
      "Run 1 Test loss: 0.0856\n",
      "\n",
      "Final Results:\n",
      "--------------------\n",
      "Average Test Accuracy: 0.9816\n",
      "Standard Deviation of Test Accuracy: 0.0000\n",
      "Average Test Loss: 0.0856\n",
      "Individual Run Accuracies: ['0.9816']\n"
     ]
    }
   ],
   "source": [
    "# Clear any existing session\n",
    "tf.keras.backend.clear_session()\n",
    "\n",
    "def create_ffnn():\n",
    "  # Create sequential model with architecture with fastest run time\n",
    "    model = models.Sequential([\n",
    "        layers.Flatten(input_shape=(28, 28)),\n",
    "        layers.Dense(128, activation='relu'),\n",
    "        layers.Dense(64, activation='relu'),\n",
    "        layers.Dense(10, activation='softmax')\n",
    "    ])\n",
    "    return model\n",
    "\n",
    "# Lists to store results\n",
    "test_accuracies = []\n",
    "test_losses = []\n",
    "\n",
    "# Run n times (currently set to 1)\n",
    "for run in range(1):\n",
    "    print(f\"\\nRun {run + 1}\")\n",
    "    print(\"-\" * 20)\n",
    "\n",
    "    # Create model\n",
    "    ffnn_model = create_ffnn()\n",
    "\n",
    "    # Configure model with Adam optimizer\n",
    "    # Learning rate 0.0005 showed best results in Table 1\n",
    "    optimizer = Adam(learning_rate=0.0005)\n",
    "    ffnn_model.compile(optimizer=optimizer,\n",
    "                      loss='sparse_categorical_crossentropy',\n",
    "                      metrics=['accuracy'])\n",
    "\n",
    "    # Train model for 10 epochs with 10% validation split\n",
    "    ffnn_history = ffnn_model.fit(train_images, train_labels,\n",
    "                                 epochs=10,\n",
    "                                 validation_split=0.1,\n",
    "                                 batch_size=32,\n",
    "                                 verbose=1)\n",
    "\n",
    "    # Evaluate the model\n",
    "    test_loss, test_acc = ffnn_model.evaluate(test_images, test_labels, verbose=0)\n",
    "    test_accuracies.append(test_acc)\n",
    "    test_losses.append(test_loss)\n",
    "\n",
    "    print(f\"Run {run + 1} Test accuracy: {test_acc:.4f}\")\n",
    "    print(f\"Run {run + 1} Test loss: {test_loss:.4f}\")\n",
    "\n",
    "# Calculate and print statistics\n",
    "print(\"\\nFinal Results:\")\n",
    "print(\"-\" * 20)\n",
    "print(f\"Average Test Accuracy: {np.mean(test_accuracies):.4f}\")\n",
    "print(f\"Standard Deviation of Test Accuracy: {np.std(test_accuracies):.4f}\")\n",
    "print(f\"Average Test Loss: {np.mean(test_losses):.4f}\")\n",
    "print(f\"Individual Run Accuracies: {[f'{acc:.4f}' for acc in test_accuracies]}\")"
   ]
  },
  {
   "cell_type": "markdown",
   "metadata": {
    "id": "a6mnyFLj-SuA"
   },
   "source": [
    "---\n",
    "| Feed Forward Neural Network  |Nodes|Activation Function|\n",
    "|----------|----------|----------|\n",
    "| Hidden Layer 1 | 128 | Relu |\n",
    "| Hidden Layer 2 | 64 | Relu |\n",
    "| Output Layer  | 10 | Softmax |\n",
    "\n",
    "Data from Run 1\n",
    "---\n",
    "|Epoch|Training Accuracy|Training Loss|Validation Accuracy|Validation Loss\n",
    "|-----|----|---|-|-|\n",
    "| 1 |0.8681|0.4547|0.9600 |0.1332\n",
    "|2|0.9654|0.1184 |0.9760 |0.0836\n",
    "|3|0.9781|0.0697|0.9770 |0.0739\n",
    "|4|0.9842|0.0517 |0.9763 |0.0871\n",
    "|5|0.9874|0.0392|0.9785 |0.0788\n",
    "|6|0.9898|0.0322 |0.9813 |0.0779\n",
    "|7|0.9913|0.0257|0.9788 |0.0877\n",
    "|8|0.9931|0.0204 |0.9808 |0.0822\n",
    "|9|0.9944|0.0162|0.9803 |0.0932\n",
    "|10|0.9953|0.0149|0.9813 |0.0848\n",
    "\n",
    "---\n",
    "|Run| Test Accuracy| Loss\n",
    "|-|-|-|\n",
    "|1|0.9771|0.0876|\n",
    "|2|0.9725|0.1199|\n",
    "|3|0.9760|0.0985|\n",
    "|4|0.9776|0.0929|\n",
    "|5|0.9792|0.0889|\n",
    "|Average|0.9765|0.0976|\n",
    "\n",
    "\n",
    "---\n",
    "|Run (n=5)|Hidden Layers Neuron Ratio| Test Accuracy  | Loss|Learning Rate|Time (Per Run)\n",
    "|-|-|-|-|-|-|\n",
    "|Average|512:256|0.9795|0.0893|0.0005|3:19|\n",
    "|Average|256:128|0.9778|0.0971|0.0005|1:55|\n",
    "|Average|128:64|0.9774|0.0849|0.0005|1:31|\n",
    "|Average|512:256|0.9786|0.1045|0.001|3:03|\n",
    "|Average|256:128|0.9766|0.1050|0.001|1:47|\n",
    "|Average|128:64|0.9740|0.1071|0.001|1:28|"
   ]
  },
  {
   "cell_type": "code",
   "execution_count": 8,
   "metadata": {
    "colab": {
     "base_uri": "https://localhost:8080/"
    },
    "id": "KYyK-s5P4pkE",
    "outputId": "49357316-70d5-437e-e87d-65bbef3e254d"
   },
   "outputs": [
    {
     "name": "stdout",
     "output_type": "stream",
     "text": [
      "\n",
      "Run 1\n",
      "--------------------\n"
     ]
    },
    {
     "name": "stderr",
     "output_type": "stream",
     "text": [
      "/usr/local/lib/python3.10/dist-packages/keras/src/layers/convolutional/base_conv.py:107: UserWarning: Do not pass an `input_shape`/`input_dim` argument to a layer. When using Sequential models, prefer using an `Input(shape)` object as the first layer in the model instead.\n",
      "  super().__init__(activity_regularizer=activity_regularizer, **kwargs)\n"
     ]
    },
    {
     "name": "stdout",
     "output_type": "stream",
     "text": [
      "Epoch 1/10\n",
      "\u001b[1m1688/1688\u001b[0m \u001b[32m━━━━━━━━━━━━━━━━━━━━\u001b[0m\u001b[37m\u001b[0m \u001b[1m51s\u001b[0m 30ms/step - accuracy: 0.8623 - loss: 0.4643 - val_accuracy: 0.9780 - val_loss: 0.0666\n",
      "Epoch 2/10\n",
      "\u001b[1m1688/1688\u001b[0m \u001b[32m━━━━━━━━━━━━━━━━━━━━\u001b[0m\u001b[37m\u001b[0m \u001b[1m82s\u001b[0m 30ms/step - accuracy: 0.9779 - loss: 0.0717 - val_accuracy: 0.9855 - val_loss: 0.0503\n",
      "Epoch 3/10\n",
      "\u001b[1m1688/1688\u001b[0m \u001b[32m━━━━━━━━━━━━━━━━━━━━\u001b[0m\u001b[37m\u001b[0m \u001b[1m48s\u001b[0m 29ms/step - accuracy: 0.9853 - loss: 0.0457 - val_accuracy: 0.9855 - val_loss: 0.0454\n",
      "Epoch 4/10\n",
      "\u001b[1m1688/1688\u001b[0m \u001b[32m━━━━━━━━━━━━━━━━━━━━\u001b[0m\u001b[37m\u001b[0m \u001b[1m83s\u001b[0m 29ms/step - accuracy: 0.9900 - loss: 0.0330 - val_accuracy: 0.9872 - val_loss: 0.0464\n",
      "Epoch 5/10\n",
      "\u001b[1m1688/1688\u001b[0m \u001b[32m━━━━━━━━━━━━━━━━━━━━\u001b[0m\u001b[37m\u001b[0m \u001b[1m82s\u001b[0m 29ms/step - accuracy: 0.9907 - loss: 0.0283 - val_accuracy: 0.9880 - val_loss: 0.0394\n",
      "Epoch 6/10\n",
      "\u001b[1m1688/1688\u001b[0m \u001b[32m━━━━━━━━━━━━━━━━━━━━\u001b[0m\u001b[37m\u001b[0m \u001b[1m48s\u001b[0m 29ms/step - accuracy: 0.9929 - loss: 0.0221 - val_accuracy: 0.9883 - val_loss: 0.0399\n",
      "Epoch 7/10\n",
      "\u001b[1m1688/1688\u001b[0m \u001b[32m━━━━━━━━━━━━━━━━━━━━\u001b[0m\u001b[37m\u001b[0m \u001b[1m83s\u001b[0m 29ms/step - accuracy: 0.9945 - loss: 0.0165 - val_accuracy: 0.9902 - val_loss: 0.0392\n",
      "Epoch 8/10\n",
      "\u001b[1m1688/1688\u001b[0m \u001b[32m━━━━━━━━━━━━━━━━━━━━\u001b[0m\u001b[37m\u001b[0m \u001b[1m81s\u001b[0m 29ms/step - accuracy: 0.9952 - loss: 0.0137 - val_accuracy: 0.9895 - val_loss: 0.0394\n",
      "Epoch 9/10\n",
      "\u001b[1m1688/1688\u001b[0m \u001b[32m━━━━━━━━━━━━━━━━━━━━\u001b[0m\u001b[37m\u001b[0m \u001b[1m81s\u001b[0m 28ms/step - accuracy: 0.9961 - loss: 0.0109 - val_accuracy: 0.9898 - val_loss: 0.0394\n",
      "Epoch 10/10\n",
      "\u001b[1m1688/1688\u001b[0m \u001b[32m━━━━━━━━━━━━━━━━━━━━\u001b[0m\u001b[37m\u001b[0m \u001b[1m83s\u001b[0m 29ms/step - accuracy: 0.9981 - loss: 0.0067 - val_accuracy: 0.9905 - val_loss: 0.0436\n",
      "Run 1 Test accuracy: 0.9887\n",
      "Run 1 Test loss: 0.0336\n",
      "\n",
      "Final Results:\n",
      "--------------------\n",
      "Average Test Accuracy: 0.9887\n",
      "Standard Deviation of Test Accuracy: 0.0000\n",
      "Average Test Loss: 0.0336\n",
      "Individual Run Accuracies: ['0.9887']\n"
     ]
    }
   ],
   "source": [
    "# Reshape input data for CNN\n",
    "train_images_reshaped = train_images.reshape((60000, 28, 28, 1))\n",
    "test_images_reshaped = test_images.reshape((10000, 28, 28, 1))\n",
    "\n",
    "def create_cnn():\n",
    "    model = models.Sequential([\n",
    "        # Using 32->64 feature maps with (3,3) filter size (for shortest run time)\n",
    "        layers.Conv2D(32, (3, 3), activation='relu', input_shape=(28, 28, 1)),\n",
    "        layers.MaxPooling2D((2, 2)),\n",
    "        layers.Conv2D(64, (3, 3), activation='relu'),\n",
    "        layers.MaxPooling2D((2, 2)),\n",
    "        layers.Flatten(),\n",
    "        layers.Dense(64, activation='relu'),\n",
    "        layers.Dense(10, activation='softmax')\n",
    "    ])\n",
    "    return model\n",
    "\n",
    "# Lists to store results\n",
    "test_accuracies = []\n",
    "test_losses = []\n",
    "\n",
    "# Run experiment n times (currently set to 1)\n",
    "for run in range(1):\n",
    "    print(f\"\\nRun {run + 1}\")\n",
    "    print(\"-\" * 20)\n",
    "\n",
    "    # Clear session\n",
    "    tf.keras.backend.clear_session()\n",
    "\n",
    "    # Create and compile model\n",
    "    cnn_model = create_cnn()\n",
    "    # Learning rate from best performing model\n",
    "    optimizer = Adam(learning_rate=0.0005)\n",
    "    cnn_model.compile(optimizer=optimizer,\n",
    "                     loss='sparse_categorical_crossentropy',\n",
    "                     metrics=['accuracy'])\n",
    "\n",
    "    # Train model for 10 epochs with 10% validation split\n",
    "    cnn_history = cnn_model.fit(train_images_reshaped, train_labels,\n",
    "                               epochs=10,\n",
    "                               validation_split=0.1,\n",
    "                               batch_size=32,\n",
    "                               verbose=1)\n",
    "\n",
    "    # Evaluate the model\n",
    "    test_loss, test_acc = cnn_model.evaluate(test_images_reshaped, test_labels, verbose=0)\n",
    "    test_accuracies.append(test_acc)\n",
    "    test_losses.append(test_loss)\n",
    "\n",
    "    print(f\"Run {run + 1} Test accuracy: {test_acc:.4f}\")\n",
    "    print(f\"Run {run + 1} Test loss: {test_loss:.4f}\")\n",
    "\n",
    "# Calculate and print statistics\n",
    "print(\"\\nFinal Results:\")\n",
    "print(\"-\" * 20)\n",
    "print(f\"Average Test Accuracy: {np.mean(test_accuracies):.4f}\")\n",
    "print(f\"Standard Deviation of Test Accuracy: {np.std(test_accuracies):.4f}\")\n",
    "print(f\"Average Test Loss: {np.mean(test_losses):.4f}\")\n",
    "print(f\"Individual Run Accuracies: {[f'{acc:.4f}' for acc in test_accuracies]}\")"
   ]
  },
  {
   "cell_type": "markdown",
   "metadata": {
    "id": "zQbScpE22bbP"
   },
   "source": [
    "---\n",
    "|Layer Type|Details|Activation Function|\n",
    "|-----------------|----------|----------|\n",
    "| Conv2D    | 32 filters (3x3) | Relu |\n",
    "| MaxPooling2D    | 2x2 window |  |\n",
    "| Conv2D  | 64 filters (3x3) | Relu |\n",
    "| MaxPooling2D | 2x2 window |  |\n",
    "| Flatten  | Converts 2D into 1D |  |\n",
    "| Dense | 64 Nodes| Relu |\n",
    "| Dense (Output)      | 10 Nodes| Softmax |\n",
    "\n",
    "\n",
    "---\n",
    "Data from Run 1\n",
    "---\n",
    "|Epoch|Training Accuracy|Training Loss|Validation Accuracy|Validation Loss\n",
    "|-----|----|---|-|-|\n",
    "|1|0.8887|0.3525|0.9860 |0.0492\n",
    "|2|0.9826|0.0566 |0.9865 |0.0465\n",
    "|3|0.9890|0.0369|0.9893 |0.0387\n",
    "|4|0.9913|0.0259 |0.9860 |0.0455\n",
    "|5|0.9940|0.0183|0.9875 |0.0400\n",
    "|6|0.9958|0.0130 |0.9888 |0.0411\n",
    "|7|0.9966|0.0105|0.9900 |0.0374\n",
    "|8|0.9973|0.0090 |0.9905 |0.0366\n",
    "|9|0.9985|0.0050|0.9913 |0.0352\n",
    "|10|0.9979|0.0060|0.9892 |0.0485\n",
    "\n",
    "\n",
    "\n"
   ]
  }
 ],
 "metadata": {
  "colab": {
   "provenance": []
  },
  "kernelspec": {
   "display_name": "Python 3 (ipykernel)",
   "language": "python",
   "name": "python3"
  },
  "language_info": {
   "codemirror_mode": {
    "name": "ipython",
    "version": 3
   },
   "file_extension": ".py",
   "mimetype": "text/x-python",
   "name": "python",
   "nbconvert_exporter": "python",
   "pygments_lexer": "ipython3",
   "version": "3.13.2"
  }
 },
 "nbformat": 4,
 "nbformat_minor": 4
}
